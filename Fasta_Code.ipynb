{
  "nbformat": 4,
  "nbformat_minor": 0,
  "metadata": {
    "colab": {
      "provenance": []
    },
    "kernelspec": {
      "name": "python3",
      "display_name": "Python 3"
    },
    "language_info": {
      "name": "python"
    }
  },
  "cells": [
    {
      "cell_type": "code",
      "execution_count": 1,
      "metadata": {
        "colab": {
          "base_uri": "https://localhost:8080/"
        },
        "id": "8nKlXKfs90r7",
        "outputId": "02f474aa-1933-4621-9b56-a489221ff9c6"
      },
      "outputs": [
        {
          "output_type": "stream",
          "name": "stdout",
          "text": [
            "Requirement already satisfied: requests in /usr/local/lib/python3.10/dist-packages (2.31.0)\n",
            "Requirement already satisfied: charset-normalizer<4,>=2 in /usr/local/lib/python3.10/dist-packages (from requests) (3.2.0)\n",
            "Requirement already satisfied: idna<4,>=2.5 in /usr/local/lib/python3.10/dist-packages (from requests) (3.4)\n",
            "Requirement already satisfied: urllib3<3,>=1.21.1 in /usr/local/lib/python3.10/dist-packages (from requests) (2.0.4)\n",
            "Requirement already satisfied: certifi>=2017.4.17 in /usr/local/lib/python3.10/dist-packages (from requests) (2023.7.22)\n"
          ]
        }
      ],
      "source": [
        "!pip install requests\n"
      ]
    },
    {
      "cell_type": "code",
      "source": [
        "!pip install requests pandas openpyxl\n"
      ],
      "metadata": {
        "colab": {
          "base_uri": "https://localhost:8080/"
        },
        "id": "r7LHKqg7-s13",
        "outputId": "698d8938-8593-404d-ea12-163865404719"
      },
      "execution_count": 2,
      "outputs": [
        {
          "output_type": "stream",
          "name": "stdout",
          "text": [
            "Requirement already satisfied: requests in /usr/local/lib/python3.10/dist-packages (2.31.0)\n",
            "Requirement already satisfied: pandas in /usr/local/lib/python3.10/dist-packages (1.5.3)\n",
            "Requirement already satisfied: openpyxl in /usr/local/lib/python3.10/dist-packages (3.1.2)\n",
            "Requirement already satisfied: charset-normalizer<4,>=2 in /usr/local/lib/python3.10/dist-packages (from requests) (3.2.0)\n",
            "Requirement already satisfied: idna<4,>=2.5 in /usr/local/lib/python3.10/dist-packages (from requests) (3.4)\n",
            "Requirement already satisfied: urllib3<3,>=1.21.1 in /usr/local/lib/python3.10/dist-packages (from requests) (2.0.4)\n",
            "Requirement already satisfied: certifi>=2017.4.17 in /usr/local/lib/python3.10/dist-packages (from requests) (2023.7.22)\n",
            "Requirement already satisfied: python-dateutil>=2.8.1 in /usr/local/lib/python3.10/dist-packages (from pandas) (2.8.2)\n",
            "Requirement already satisfied: pytz>=2020.1 in /usr/local/lib/python3.10/dist-packages (from pandas) (2023.3.post1)\n",
            "Requirement already satisfied: numpy>=1.21.0 in /usr/local/lib/python3.10/dist-packages (from pandas) (1.23.5)\n",
            "Requirement already satisfied: et-xmlfile in /usr/local/lib/python3.10/dist-packages (from openpyxl) (1.1.0)\n",
            "Requirement already satisfied: six>=1.5 in /usr/local/lib/python3.10/dist-packages (from python-dateutil>=2.8.1->pandas) (1.16.0)\n"
          ]
        }
      ]
    },
    {
      "cell_type": "code",
      "source": [
        "import requests\n",
        "import pandas as pd\n",
        "\n",
        "def fetch_fasta(uniprot_id):\n",
        "    url = f\"https://www.uniprot.org/uniprot/{uniprot_id}.fasta\"\n",
        "    response = requests.get(url)\n",
        "    if response.status_code == 200:\n",
        "        return response.text\n",
        "    else:\n",
        "        print(f\"Failed to fetch FASTA sequence for {uniprot_id}\")\n",
        "        return None\n",
        "\n",
        "# Load UniProt IDs from an Excel file\n",
        "excel_file_path = \"/content/test1.xlsx\"  # Replace with the path to your Excel file\n",
        "df = pd.read_excel(excel_file_path)\n",
        "\n",
        "# Assuming the UniProt IDs are in a column named \"UniProt_ID\"\n",
        "uniprot_ids = df[\"UniprotID\"].tolist()\n",
        "\n",
        "for uniprot_id in uniprot_ids:\n",
        "    fasta_sequence = fetch_fasta(uniprot_id)\n",
        "    if fasta_sequence:\n",
        "        # Do something with the FASTA sequence, e.g., save it to a file\n",
        "        with open(f\"{uniprot_id}.fasta\", \"w\") as file:\n",
        "            file.write(fasta_sequence)\n"
      ],
      "metadata": {
        "id": "QNV1AJ0d_LVF"
      },
      "execution_count": 3,
      "outputs": []
    },
    {
      "cell_type": "code",
      "source": [
        "import requests\n",
        "import pandas as pd\n",
        "\n",
        "def fetch_fasta(uniprot_id):\n",
        "    url = f\"https://www.uniprot.org/uniprot/{uniprot_id}.fasta\"\n",
        "    response = requests.get(url)\n",
        "    if response.status_code == 200:\n",
        "        return response.text\n",
        "    else:\n",
        "        print(f\"Failed to fetch FASTA sequence for {uniprot_id}\")\n",
        "        return None\n",
        "\n",
        "# Load UniProt IDs from an Excel file\n",
        "excel_file_path = \"/content/testfile.xlsx\"  # Replace with the path to your Excel file\n",
        "df = pd.read_excel(excel_file_path)\n",
        "\n",
        "# Assuming the UniProt IDs are in a column named \"UniProt_ID\"\n",
        "uniprot_ids = df[\"UniprotID\"].tolist()\n",
        "\n",
        "# Create a dictionary to store UniProt IDs and corresponding FASTA sequences\n",
        "data = {\"UniprotID\": [], \"FASTA\": []}\n",
        "\n",
        "for uniprot_id in uniprot_ids:\n",
        "    fasta_sequence = fetch_fasta(uniprot_id)\n",
        "    if fasta_sequence:\n",
        "        data[\"UniprotID\"].append(uniprot_id)\n",
        "        data[\"FASTA\"].append(fasta_sequence)\n",
        "\n",
        "# Create a DataFrame\n",
        "result_df = pd.DataFrame(data)\n",
        "\n",
        "# Export the DataFrame to an Excel file\n",
        "result_excel_file = \"fasta_sequences.xlsx\"\n",
        "result_df.to_excel(result_excel_file, index=False)\n",
        "\n",
        "print(f\"FASTA sequences saved to {result_excel_file}\")\n"
      ],
      "metadata": {
        "colab": {
          "base_uri": "https://localhost:8080/"
        },
        "id": "gXbhqZv5AcLK",
        "outputId": "abaccc94-3cba-463b-cda8-fd7d13ec98be"
      },
      "execution_count": 6,
      "outputs": [
        {
          "output_type": "stream",
          "name": "stdout",
          "text": [
            "FASTA sequences saved to fasta_sequences.xlsx\n"
          ]
        }
      ]
    },
    {
      "cell_type": "code",
      "source": [
        "import pandas as pd\n",
        "\n",
        "# Load the Excel file containing FASTA sequences\n",
        "excel_file_path = \"/content/fasta_sequences.xlsx\"  # Replace with the path to your Excel file\n",
        "df = pd.read_excel(excel_file_path)\n",
        "\n",
        "# Assuming the FASTA sequences are in a column named \"FASTA\"\n",
        "fasta_sequences = df[\"FASTA\"].tolist()\n",
        "\n",
        "# Create the multiple FASTA (mfa) content by joining the sequences\n",
        "mfa_content = \"\\n\".join(fasta_sequences)\n",
        "\n",
        "# Save the mfa content to a file\n",
        "mfa_file = \"combined_sequences.mfa\"\n",
        "with open(mfa_file, \"w\") as file:\n",
        "    file.write(mfa_content)\n",
        "\n",
        "print(f\"Combined FASTA sequences saved to {mfa_file}\")\n"
      ],
      "metadata": {
        "colab": {
          "base_uri": "https://localhost:8080/"
        },
        "id": "DLHc_038xIab",
        "outputId": "bc17fea1-bea1-4c50-d83f-d493a435c67d"
      },
      "execution_count": 1,
      "outputs": [
        {
          "output_type": "stream",
          "name": "stdout",
          "text": [
            "Combined FASTA sequences saved to combined_sequences.mfa\n"
          ]
        }
      ]
    },
    {
      "cell_type": "code",
      "source": [
        "import pandas as pd\n",
        "\n",
        "# Load the Excel file containing FASTA sequences\n",
        "excel_file_path = \"/content/fasta_sequences.xlsx\"  # Replace with the path to your Excel file\n",
        "df = pd.read_excel(excel_file_path)\n",
        "\n",
        "# Assuming the FASTA sequences are in a column named \"FASTA\"\n",
        "fasta_sequences = df[\"FASTA\"].tolist()\n",
        "\n",
        "# Remove newline characters within the sequences and create the multiple FASTA (mfa) content\n",
        "mfa_content = \"\\n\".join(fasta.replace('\\n', '') for fasta in fasta_sequences)\n",
        "\n",
        "# Save the mfa content to a file\n",
        "mfa_file = \"combined_sequences1.mfa\"\n",
        "with open(mfa_file, \"w\") as file:\n",
        "   file.write(mfa_content)\n",
        "\n",
        "print(f\"Combined FASTA sequences saved to {mfa_file}\")\n"
      ],
      "metadata": {
        "colab": {
          "base_uri": "https://localhost:8080/"
        },
        "id": "VY50cRogyRZ6",
        "outputId": "1cc22ebb-2c69-4e5d-bcf9-aa37ce4b0486"
      },
      "execution_count": 2,
      "outputs": [
        {
          "output_type": "stream",
          "name": "stdout",
          "text": [
            "Combined FASTA sequences saved to combined_sequences1.mfa\n"
          ]
        }
      ]
    }
  ]
}